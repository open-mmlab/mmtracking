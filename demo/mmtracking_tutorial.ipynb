{
 "cells": [
  {
   "cell_type": "markdown",
   "metadata": {},
   "source": [
    "### Welcome to MMTracking!\n",
    "In this tutorial, you will learn:\n",
    "+ to perform inference with MMTracking.\n",
    "+ to train a new dataset and visiualize the results"
   ]
  },
  {
   "cell_type": "markdown",
   "metadata": {},
   "source": [
    "### Install MMTracking"
   ]
  },
  {
   "cell_type": "code",
   "execution_count": null,
   "metadata": {},
   "outputs": [],
   "source": [
    "# Check nvcc version\n",
    "!nvcc -V\n",
    "# Check GCC version\n",
    "!gcc --version"
   ]
  },
  {
   "cell_type": "code",
   "execution_count": null,
   "metadata": {},
   "outputs": [],
   "source": [
    "# install PyTorch\n",
    "!pip install torch==1.10.0+cu111 torchvision==0.11.0+cu111 -f https://download.pytorch.org/whl/torch_stable.html\n",
    "\n",
    "# install mmcv-full\n",
    "!pip install mmcv-full -f https://download.openmmlab.com/mmcv/dist/cu111/torch1.10.0/index.html\n",
    "\n",
    "# install MMDetection\n",
    "!pip install mmdet\n",
    "\n",
    "# clone the MMTracking repository\n",
    "!git clone https://github.com/open-mmlab/mmtracking.git\n",
    "%cd mmtracking\n",
    "\n",
    "!pip install -r requirements/build.txt\n",
    "!pip install -e ."
   ]
  },
  {
   "cell_type": "code",
   "execution_count": null,
   "metadata": {},
   "outputs": [],
   "source": [
    "from mmcv import collect_env\n",
    "collect_env()"
   ]
  },
  {
   "cell_type": "code",
   "execution_count": null,
   "metadata": {},
   "outputs": [],
   "source": [
    "# Check Pytorch installation\n",
    "import torch, torchvision\n",
    "print(torch.__version__, torch.cuda.is_available())\n",
    "\n",
    "# Check mmcv installation\n",
    "from mmcv.ops import get_compiling_cuda_version, get_compiler_version\n",
    "print(get_compiling_cuda_version())\n",
    "print(get_compiler_version())\n",
    "\n",
    "# Check MMDetection installation\n",
    "import mmdet\n",
    "print(mmdet.__version__)\n",
    "\n",
    "# Check MMTracking installation\n",
    "import mmtrack\n",
    "print(mmtrack.__version__)"
   ]
  },
  {
   "cell_type": "code",
   "execution_count": null,
   "metadata": {},
   "outputs": [],
   "source": [
    "# Run some inference demos\n",
    "!mkdir checkpoints\n",
    "!wget -c https://download.openmmlab.com/mmtracking/vid/selsa/selsa_faster_rcnn_r50_dc5_1x_imagenetvid/selsa_faster_rcnn_r50_dc5_1x_imagenetvid_20201227_204835-2f5a4952.pth -P checkpints\n",
    "!wget -c https://download.openmmlab.com/mmtracking/sot/siamese_rpn/siamese_rpn_r50_1x_lasot/siamese_rpn_r50_1x_lasot_20211203_151612-da4b3c66.pth -P checkpints\n",
    "!wget -c https://download.openmmlab.com/mmtracking/vis/masktrack_rcnn/masktrack_rcnn_r50_fpn_12e_youtubevis2019/masktrack_rcnn_r50_fpn_12e_youtubevis2019_20211022_194830-6ca6b91e.pth -P checkpoints"
   ]
  },
  {
   "cell_type": "code",
   "execution_count": null,
   "metadata": {},
   "outputs": [],
   "source": [
    "import mmcv\n",
    "import tempfile\n",
    "from mmtrack.apis import inference_mot, init_model\n",
    "config_file = '../configs/mot/deepsort_faster-rcnn_fpn_4e_mot17-private-half.py'\n",
    "# build the model from a config file and a checkpoint file\n",
    "model = init_model(config, device='cuda:0')\n",
    "input_video = '../demo/demo.mp4'\n",
    "output_video = './demo/mot.mp4'\n",
    "imgs = mmcv.VideoReader(video)\n",
    "prog_bar = mmcv.ProgressBar(len(imgs))\n",
    "# test and show/save the images\n",
    "for i, img in enumerate(imgs):\n",
    "    result = inference_mot(model, img, frame_id=i)\n",
    "    model.show_result(\n",
    "        img,\n",
    "        result,\n",
    "        score_thr=0,\n",
    "        show=True,\n",
    "        wait_time=int(1000. / imgs.fps),\n",
    "        out_file=None,\n",
    "        backend='plt')\n",
    "    prog_bar.update()"
   ]
  }
 ],
 "metadata": {
  "language_info": {
   "name": "python"
  },
  "orig_nbformat": 4
 },
 "nbformat": 4,
 "nbformat_minor": 2
}
