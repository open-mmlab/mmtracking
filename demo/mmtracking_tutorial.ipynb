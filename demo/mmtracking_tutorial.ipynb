{
 "cells": [
  {
   "cell_type": "markdown",
   "metadata": {},
   "source": [
    "### Welcome to MMTracking!\n",
    "In this tutorial, you will learn:\n",
    "+ to perform inference with MMTracking.\n",
    "+ to train a new dataset and visiualize the results"
   ]
  },
  {
   "cell_type": "markdown",
   "metadata": {},
   "source": [
    "## **Install MMTracking**"
   ]
  },
  {
   "cell_type": "code",
   "execution_count": null,
   "metadata": {},
   "outputs": [],
   "source": [
    "# Check nvcc version\n",
    "!nvcc -V\n",
    "# Check GCC version\n",
    "!gcc --version"
   ]
  },
  {
   "cell_type": "code",
   "execution_count": null,
   "metadata": {},
   "outputs": [],
   "source": [
    "# install PyTorch\n",
    "!pip install torch==1.10.0+cu111 torchvision==0.11.0+cu111 -f https://download.pytorch.org/whl/torch_stable.html\n",
    "\n",
    "# install mmcv-full\n",
    "!pip install mmcv-full -f https://download.openmmlab.com/mmcv/dist/cu111/torch1.10.0/index.html\n",
    "\n",
    "# install MMDetection\n",
    "!pip install mmdet\n",
    "\n",
    "# clone the MMTracking repository\n",
    "!git clone https://github.com/open-mmlab/mmtracking.git\n",
    "%cd mmtracking\n",
    "\n",
    "!pip install -r requirements/build.txt\n",
    "!pip install -e ."
   ]
  },
  {
   "cell_type": "code",
   "execution_count": null,
   "metadata": {},
   "outputs": [],
   "source": [
    "from mmcv import collect_env\n",
    "collect_env()"
   ]
  },
  {
   "cell_type": "code",
   "execution_count": null,
   "metadata": {},
   "outputs": [],
   "source": [
    "# Check Pytorch installation\n",
    "import torch, torchvision\n",
    "print(torch.__version__, torch.cuda.is_available())\n",
    "\n",
    "# Check mmcv installation\n",
    "from mmcv.ops import get_compiling_cuda_version, get_compiler_version\n",
    "print(get_compiling_cuda_version())\n",
    "print(get_compiler_version())\n",
    "\n",
    "# Check MMDetection installation\n",
    "import mmdet\n",
    "print(mmdet.__version__)\n",
    "\n",
    "# Check MMTracking installation\n",
    "import mmtrack\n",
    "print(mmtrack.__version__)"
   ]
  },
  {
   "cell_type": "markdown",
   "metadata": {},
   "source": [
    "## **Perform inference**"
   ]
  },
  {
   "cell_type": "markdown",
   "metadata": {},
   "source": [
    "### **Prepare datasets**"
   ]
  },
  {
   "cell_type": "code",
   "execution_count": null,
   "metadata": {},
   "outputs": [],
   "source": [
    "# Run some inference demos\n",
    "!mkdir checkpoints\n",
    "!wget -c https://download.openmmlab.com/mmtracking/vid/selsa/selsa_faster_rcnn_r50_dc5_1x_imagenetvid/selsa_faster_rcnn_r50_dc5_1x_imagenetvid_20201227_204835-2f5a4952.pth -P checkpoints\n",
    "!wget -c https://download.openmmlab.com/mmtracking/sot/siamese_rpn/siamese_rpn_r50_1x_lasot/siamese_rpn_r50_1x_lasot_20211203_151612-da4b3c66.pth -P checkpoints\n",
    "!wget -c https://download.openmmlab.com/mmtracking/vis/masktrack_rcnn/masktrack_rcnn_r50_fpn_12e_youtubevis2019/masktrack_rcnn_r50_fpn_12e_youtubevis2019_20211022_194830-6ca6b91e.pth -P checkpoints"
   ]
  },
  {
   "cell_type": "markdown",
   "metadata": {},
   "source": [
    "### **Perform MOT inference**"
   ]
  },
  {
   "cell_type": "code",
   "execution_count": null,
   "metadata": {},
   "outputs": [],
   "source": [
    "# run mot demo\n",
    "import mmcv\n",
    "from mmtrack.apis import inference_mot, init_model\n",
    "mot_config = './configs/mot/deepsort/deepsort_faster-rcnn_fpn_4e_mot17-private-half.py'\n",
    "input_video = './demo/demo.mp4'\n",
    "imgs = mmcv.VideoReader(input_video)\n",
    "# build the model from a config file\n",
    "mot_model = init_model(mot_config, device='cuda:0')\n",
    "prog_bar = mmcv.ProgressBar(len(imgs))\n",
    "# test and show/save the images\n",
    "for i, img in enumerate(imgs):\n",
    "    result = inference_mot(mot_model, img, frame_id=i)\n",
    "    prog_bar.update()"
   ]
  },
  {
   "cell_type": "markdown",
   "metadata": {},
   "source": [
    "### **Perform VIS inference**"
   ]
  },
  {
   "cell_type": "code",
   "execution_count": null,
   "metadata": {},
   "outputs": [],
   "source": [
    "# run vis demo\n",
    "from mmtrack.apis import inference_mot\n",
    "vis_config = './configs/vis/masktrack_rcnn/masktrack_rcnn_r50_fpn_12e_youtubevis2019.py'\n",
    "vis_checkpoint = './checkpoints/masktrack_rcnn_r50_fpn_12e_youtubevis2019_20211022_194830-6ca6b91e.pth'\n",
    "# build the model from a config file and a checkpoint file\n",
    "vis_model = init_model(vis_config, vis_checkpoint, device='cuda:0')\n",
    "prog_bar = mmcv.ProgressBar(len(imgs))\n",
    "for i, img in enumerate(imgs):\n",
    "    result = inference_mot(vis_model, img, frame_id=i)\n",
    "    prog_bar.update()"
   ]
  },
  {
   "cell_type": "markdown",
   "metadata": {},
   "source": [
    "### **Perform VID inference**"
   ]
  },
  {
   "cell_type": "code",
   "execution_count": null,
   "metadata": {},
   "outputs": [],
   "source": [
    "# run vid demo\n",
    "from mmtrack.apis import inference_vid\n",
    "vid_config = './configs/vid/selsa/selsa_faster_rcnn_r101_dc5_1x_imagenetvid.py'\n",
    "vid_checkpoint = './checkpoints/selsa_faster_rcnn_r50_dc5_1x_imagenetvid_20201227_204835-2f5a4952.pth'\n",
    "# build the model from a config file and a checkpoint file\n",
    "vid_model = init_model(vid_config, vid_checkpoint, device='cuda:0')\n",
    "prog_bar = mmcv.ProgressBar(len(imgs))\n",
    "for i, img in enumerate(imgs):\n",
    "    result = inference_vid(vid_model, img, frame_id=i)\n",
    "    prog_bar.update()"
   ]
  },
  {
   "cell_type": "markdown",
   "metadata": {},
   "source": [
    "### **Perform SOT inference**"
   ]
  },
  {
   "cell_type": "code",
   "execution_count": null,
   "metadata": {},
   "outputs": [],
   "source": [
    "# run sot demo\n",
    "from mmtrack.apis import inference_sot\n",
    "sot_config = './configs/sot/siamese_rpn/siamese_rpn_r50_20e_lasot.py'\n",
    "sot_checkpoint = './checkpoints/siamese_rpn_r50_1x_lasot_20211203_151612-da4b3c66.pth'\n",
    "# build the model from a config file and a checkpoint file\n",
    "sot_model = init_model(sot_config, sot_checkpoint, device='cuda:0')\n",
    "init_bbox = [371, 411, 450, 646]\n",
    "prog_bar = mmcv.ProgressBar(len(imgs))\n",
    "for i, img in enumerate(imgs):\n",
    "    result = inference_sot(sot_model, img, init_bbox, frame_id=i)\n",
    "    prog_bar.update()"
   ]
  },
  {
   "cell_type": "code",
   "execution_count": null,
   "metadata": {},
   "outputs": [],
   "source": [
    "## **Train a MOT model using a toy dataset**"
   ]
  },
  {
   "cell_type": "markdown",
   "metadata": {},
   "source": [
    "### **Prepare data**"
   ]
  },
  {
   "cell_type": "code",
   "execution_count": null,
   "metadata": {},
   "outputs": [],
   "source": []
  }
 ],
 "metadata": {
  "language_info": {
   "name": "python"
  },
  "orig_nbformat": 4
 },
 "nbformat": 4,
 "nbformat_minor": 2
}
